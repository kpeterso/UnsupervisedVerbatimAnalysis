{
 "cells": [
  {
   "cell_type": "code",
   "execution_count": 4,
   "metadata": {
    "collapsed": true
   },
   "outputs": [],
   "source": [
    "import re\n",
    "import os\n",
    "#from nltk.tokenize import RegexpTokenizer\n",
    "from nltk.corpus import stopwords\n",
    "from nltk.stem.porter import PorterStemmer\n",
    "from nltk.stem.wordnet import WordNetLemmatizer\n",
    "from gensim import corpora, models\n",
    "from gensim.models import word2vec\n",
    "from gensim.models.word2vec import Text8Corpus\n",
    "import gensim\n",
    "import numpy as np"
   ]
  },
  {
   "cell_type": "code",
   "execution_count": 14,
   "metadata": {
    "collapsed": true
   },
   "outputs": [],
   "source": [
    "def cleaner(i, stops, lemmatizer):\n",
    "    # clean and tokenize document string\n",
    "    #convert to all lowercase\n",
    "    raw = i.lower()\n",
    "    #remove non-letter chars\n",
    "    letters_only = re.sub(\"[^a-zA-Z]\", \" \", raw)\n",
    "    #tokenize words\n",
    "    tokens = letters_only.split()\n",
    "    # remove stop words from tokens\n",
    "    stopped_tokens = [i for i in tokens if not i in stops]\n",
    "    # stem tokens\n",
    "    #stemmed_tokens = [p_stemmer.stem(i) for i in stopped_tokens]\n",
    "    #lemmatize tokens\n",
    "    lemmad_tokens = [lemmatizer.lemmatize(i) for i in stopped_tokens]\n",
    "    \n",
    "    return lemmad_tokens"
   ]
  },
  {
   "cell_type": "code",
   "execution_count": 15,
   "metadata": {
    "collapsed": true
   },
   "outputs": [],
   "source": [
    "# Create a list of stop words, then convert to set for quicker use\n",
    "stops = set(stopwords.words(\"english\"))\n",
    "# Create p_stemmer of class PorterStemmer\n",
    "#p_stemmer = PorterStemmer()\n",
    "# Create a lemmatizer\n",
    "lemmatizer=WordNetLemmatizer()"
   ]
  },
  {
   "cell_type": "code",
   "execution_count": 16,
   "metadata": {
    "collapsed": true
   },
   "outputs": [],
   "source": [
    "f=open(\"Data/comments.txt\",'r')\n",
    "docSet = f.readlines()\n",
    "f.close()"
   ]
  },
  {
   "cell_type": "code",
   "execution_count": 17,
   "metadata": {
    "collapsed": false
   },
   "outputs": [],
   "source": [
    "texts = []\n",
    "for i in docSet:\n",
    "    # add tokens to list\n",
    "    texts.append(cleaner(i,stops,lemmatizer))"
   ]
  },
  {
   "cell_type": "code",
   "execution_count": 18,
   "metadata": {
    "collapsed": true
   },
   "outputs": [],
   "source": [
    "# turn our tokenized documents into a id <-> term dictionary\n",
    "dictionary = corpora.Dictionary(texts)\n",
    "\n",
    "# convert tokenized documents into a document-term matrix\n",
    "corpus = [dictionary.doc2bow(text) for text in texts]"
   ]
  },
  {
   "cell_type": "code",
   "execution_count": 19,
   "metadata": {
    "collapsed": false
   },
   "outputs": [],
   "source": [
    "tfModel=models.TfidfModel(corpus)\n",
    "corpus_tfidf = tfModel[corpus]"
   ]
  },
  {
   "cell_type": "code",
   "execution_count": 20,
   "metadata": {
    "collapsed": false
   },
   "outputs": [],
   "source": [
    "lsi = models.LsiModel(corpus_tfidf, id2word=dictionary, num_topics=100, onepass=False) # initialize an LSI transformation\n",
    "corpus_lsi = lsi[corpus_tfidf] # create a double wrapper over the original corpus: bow->tfidf->fold-in-lsi"
   ]
  },
  {
   "cell_type": "code",
   "execution_count": 21,
   "metadata": {
    "collapsed": false
   },
   "outputs": [
    {
     "data": {
      "text/plain": [
       "[(0,\n",
       "  u'0.465*\"great\" + 0.442*\"car\" + 0.366*\"love\" + 0.239*\"good\" + 0.211*\"vehicle\" + 0.195*\"everything\" + 0.169*\"like\" + 0.158*\"mileage\" + 0.158*\"gas\" + 0.152*\"nissan\"'),\n",
       " (1,\n",
       "  u'-0.778*\"nothing\" + -0.462*\"everything\" + -0.211*\"love\" + 0.206*\"great\" + 0.143*\"mileage\" + 0.139*\"gas\" + 0.124*\"good\" + 0.083*\"car\" + 0.058*\"look\" + 0.054*\"ride\"')]"
      ]
     },
     "execution_count": 21,
     "metadata": {},
     "output_type": "execute_result"
    }
   ],
   "source": [
    "lsi.print_topics(2)"
   ]
  },
  {
   "cell_type": "code",
   "execution_count": 22,
   "metadata": {
    "collapsed": false
   },
   "outputs": [
    {
     "name": "stdout",
     "output_type": "stream",
     "text": [
      "everything\n"
     ]
    }
   ],
   "source": [
    "a=lsi.show_topic(1)\n",
    "print(a[1][0])"
   ]
  },
  {
   "cell_type": "code",
   "execution_count": 23,
   "metadata": {
    "collapsed": false,
    "scrolled": true
   },
   "outputs": [],
   "source": [
    "model = gensim.models.word2vec.Word2Vec.load_word2vec_format('GoogleNews-vectors-negative300.bin', binary=True)\n",
    "#model = word2vec.Word2Vec(sentences, size=200)"
   ]
  },
  {
   "cell_type": "code",
   "execution_count": 25,
   "metadata": {
    "collapsed": false
   },
   "outputs": [
    {
     "name": "stdout",
     "output_type": "stream",
     "text": [
      "[ 0.24116144 -0.20068301  0.03322839 -0.14728838 -0.32616266  0.17889958\n",
      "  0.52310821 -0.32182184 -0.17271934 -0.04458753 -0.0855335  -0.32651669\n",
      " -0.20223953  0.16263682 -0.53433514  0.2814556   0.15726198  0.15626037\n",
      "  0.43755337 -0.05068692 -0.08476238 -0.00896305  0.10040534 -0.54710964\n",
      "  0.13502759  0.14631802  0.27849211  0.01322788  0.03445182 -0.08657685\n",
      " -0.03758958  0.13395498 -0.10810325 -0.1599589   0.20443063  0.27917138\n",
      "  0.39309905  0.00473013 -0.02000245 -0.17506525  0.05582348 -0.10948832\n",
      "  0.2357278  -0.15301168  0.05208065 -0.1815261  -0.10703264  0.08834465\n",
      " -0.12330999  0.12141565 -0.01705434  0.07095723 -0.05915609 -0.32739852\n",
      "  0.04797697  0.02269261 -0.25529328 -0.58476138 -0.30593175 -0.24502892\n",
      "  0.20490531  0.3172107   0.54685714  0.12602885  0.01772111 -0.06128491\n",
      "  0.11094588 -0.15856215 -0.14806649  0.13306347  0.22610113 -0.02712881\n",
      "  0.20185883  0.12687518 -0.26353703 -0.27834979  0.08717978 -0.33937667\n",
      "  0.33259695  0.18125825 -0.09502249 -0.16757321  0.29638154 -0.43885452\n",
      " -0.65672208 -0.33364658  0.20690673  0.41885709  0.26492246 -0.34969128\n",
      "  0.23656102  0.22696852 -0.40531445  0.19230678 -0.19965689 -0.08331014\n",
      "  0.1065702   0.18176417 -0.1207205  -0.00160435 -0.45227189  0.46170342\n",
      " -0.13743935  0.08239324 -0.39547068  0.07025991 -0.08883398  0.04751476\n",
      "  0.08700414 -0.36754477 -0.14954277  0.01638151  0.30366957 -0.0117482\n",
      "  0.06927811  0.2398971   0.24599383 -0.01847637 -0.28172477  0.40103418\n",
      " -0.20938082  0.1682489   0.36286412 -0.08728583  0.00525654 -0.21129122\n",
      " -0.23622818  0.00201788  0.23112355 -0.16380208 -0.15232355 -0.24989722\n",
      "  0.08264102 -0.11167026 -0.24978842 -0.29397002  0.14026515  0.12377064\n",
      "  0.11848255 -0.16851308  0.16325704 -0.45178101  0.26236207  0.2617164\n",
      " -0.09359563  0.01805482 -0.09477569  0.15288008 -0.27950372 -0.02904744\n",
      "  0.00814816  0.15303995 -0.25670641  0.03414173 -0.31042923  0.21935307\n",
      " -0.55228924 -0.24317798  0.09552855  0.15678749 -0.04942091  0.35900146\n",
      "  0.16235467  0.1619435  -0.0056588  -0.28117321 -0.03844541  0.03893114\n",
      " -0.08450922 -0.06920285 -0.04370499  0.3600854  -0.11292826  0.01516415\n",
      " -0.11062187 -0.03134118  0.12199579 -0.18207823  0.19384747 -0.10404988\n",
      " -0.29995591 -0.29302548  0.50988843 -0.1473671   0.19065562  0.05145455\n",
      " -0.09131336 -0.16994586 -0.01257887  0.14688268  0.44164468  0.07803548\n",
      "  0.34848339  0.3719944   0.15542551 -0.26877986 -0.0540352   0.41948101\n",
      " -0.25856639 -0.26137024 -0.18467753  0.1831552   0.00233731  0.26415139\n",
      "  0.21692841  0.28728975 -0.00337185 -0.15020738 -0.03793558 -0.11816293\n",
      " -0.09964986 -0.09570282 -0.22644179 -0.45320449 -0.22106132 -0.0784004\n",
      "  0.22941975 -0.03419346 -0.20458836 -0.21259378 -0.19114341 -0.04201821\n",
      " -0.44722091  0.30712717 -0.09291328 -0.13776515  0.04493505  0.28904182\n",
      " -0.17596735 -0.11533235  0.04155533  0.17847221  0.14537527  0.00554842\n",
      "  0.33658736 -0.30391416 -0.10358328 -0.10623133  0.40312123 -0.15506716\n",
      "  0.04012238 -0.05862798  0.02479048 -0.06939466 -0.06052407  0.20499048\n",
      " -0.19513356 -0.14110906 -0.00488137  0.22024666 -0.0203556   0.33161481\n",
      " -0.00408267  0.3066463   0.48077847 -0.39448607 -0.31458508 -0.31173417\n",
      "  0.13399081  0.09245792  0.09581066  0.02489237 -0.14626746 -0.04768218\n",
      " -0.55563465  0.02619067 -0.00950637  0.00544281 -0.31698766  0.10709405\n",
      "  0.27306542  0.33170586  0.52517124 -0.01568401 -0.09546388 -0.14396343\n",
      " -0.21583807  0.08585568  0.34323071 -0.26984991  0.22660855 -0.10719951\n",
      "  0.02997581  0.62132811  0.22912211  0.20757701  0.00764323 -0.57602807\n",
      " -0.13832847 -0.07250544 -0.24047342  0.07845061  0.01209849  0.01572373\n",
      "  0.02431298 -0.24185733  0.29067965 -0.23206087 -0.08758831 -0.13243563]\n"
     ]
    },
    {
     "data": {
      "text/plain": [
       "[(u'nothing', 0.85944664478302),\n",
       " (u'everything', 0.7460726499557495),\n",
       " (u'anything', 0.7308634519577026)]"
      ]
     },
     "execution_count": 25,
     "metadata": {},
     "output_type": "execute_result"
    }
   ],
   "source": [
    "sum=0\n",
    "vec=np.zeros(300)\n",
    "for i in range(len(a)):\n",
    "    vec+=a[i][1]*np.array(model[a[i][0]])\n",
    "    sum+=a[i][1]\n",
    "    \n",
    "vec=vec/sum\n",
    "print(vec)\n",
    "model.similar_by_vector(vec,3)"
   ]
  },
  {
   "cell_type": "code",
   "execution_count": null,
   "metadata": {
    "collapsed": false
   },
   "outputs": [],
   "source": [
    "lsi.save(\"lsi.model\")\n",
    "tfModel.save(\"tfidf.model\")"
   ]
  },
  {
   "cell_type": "code",
   "execution_count": null,
   "metadata": {
    "collapsed": true
   },
   "outputs": [],
   "source": [
    "dictionary.save(\"lsaDictionary.dict\")"
   ]
  },
  {
   "cell_type": "code",
   "execution_count": null,
   "metadata": {
    "collapsed": false
   },
   "outputs": [],
   "source": [
    "lsi=models.LsiModel.load('lsi.model', mmap='r')\n",
    "#tfModel=models.TfidfModel.load(\"tfidf.model\")"
   ]
  },
  {
   "cell_type": "code",
   "execution_count": null,
   "metadata": {
    "collapsed": false
   },
   "outputs": [],
   "source": [
    "index.save('similarity.index')"
   ]
  },
  {
   "cell_type": "code",
   "execution_count": 9,
   "metadata": {
    "collapsed": false
   },
   "outputs": [
    {
     "name": "stderr",
     "output_type": "stream",
     "text": [
      "/usr/lib/python2.7/dist-packages/scipy/sparse/compressed.py:122: UserWarning: indices array has non-integer dtype (float64)\n",
      "  % self.indices.dtype.name)\n"
     ]
    }
   ],
   "source": [
    "index = gensim.similarities.docsim.Similarity('/tmp/index', lsi[tfModel[corpus]], num_features=500)"
   ]
  },
  {
   "cell_type": "code",
   "execution_count": 10,
   "metadata": {
    "collapsed": false
   },
   "outputs": [
    {
     "ename": "NameError",
     "evalue": "name 'query' is not defined",
     "output_type": "error",
     "traceback": [
      "\u001b[1;31m---------------------------------------------------------------------------\u001b[0m",
      "\u001b[1;31mNameError\u001b[0m                                 Traceback (most recent call last)",
      "\u001b[1;32m<ipython-input-10-183fcc246b8d>\u001b[0m in \u001b[0;36m<module>\u001b[1;34m()\u001b[0m\n\u001b[0;32m      1\u001b[0m \u001b[0mindex\u001b[0m\u001b[1;33m.\u001b[0m\u001b[0mnum_best\u001b[0m \u001b[1;33m=\u001b[0m \u001b[1;36m10\u001b[0m\u001b[1;33m\u001b[0m\u001b[0m\n\u001b[1;32m----> 2\u001b[1;33m \u001b[0mindex\u001b[0m\u001b[1;33m[\u001b[0m\u001b[0mquery\u001b[0m\u001b[1;33m]\u001b[0m\u001b[1;33m\u001b[0m\u001b[0m\n\u001b[0m",
      "\u001b[1;31mNameError\u001b[0m: name 'query' is not defined"
     ]
    }
   ],
   "source": [
    "index.num_best = 10\n",
    "index[query]"
   ]
  },
  {
   "cell_type": "code",
   "execution_count": null,
   "metadata": {
    "collapsed": false
   },
   "outputs": [],
   "source": [
    "print([[docSet[i],j] for i, j in index[query]])"
   ]
  },
  {
   "cell_type": "code",
   "execution_count": 89,
   "metadata": {
    "collapsed": true
   },
   "outputs": [],
   "source": [
    "import numpy as np\n",
    "data=lsi[tfModel[corpus[15000:20000]]]"
   ]
  },
  {
   "cell_type": "code",
   "execution_count": 76,
   "metadata": {
    "collapsed": false
   },
   "outputs": [
    {
     "name": "stdout",
     "output_type": "stream",
     "text": [
      "<gensim.interfaces.TransformedCorpus object at 0x7fd8138d6190>\n"
     ]
    }
   ],
   "source": [
    "print(data)"
   ]
  },
  {
   "cell_type": "code",
   "execution_count": 90,
   "metadata": {
    "collapsed": false
   },
   "outputs": [],
   "source": [
    "# Convert lsi corpus to numpy matrix\n",
    "npdata = np.transpose(gensim.matutils.corpus2dense(data, num_terms=100))"
   ]
  },
  {
   "cell_type": "code",
   "execution_count": 91,
   "metadata": {
    "collapsed": true
   },
   "outputs": [],
   "source": [
    "# Dimension reduction to aid tSNE\n",
    "from sklearn.decomposition import PCA\n",
    "pca = PCA(n_components=50)\n",
    "pcaData=pca.fit_transform(npdata)"
   ]
  },
  {
   "cell_type": "code",
   "execution_count": 92,
   "metadata": {
    "collapsed": false
   },
   "outputs": [
    {
     "data": {
      "text/plain": [
       "(5000, 50)"
      ]
     },
     "execution_count": 92,
     "metadata": {},
     "output_type": "execute_result"
    }
   ],
   "source": [
    "pcaData.shape"
   ]
  },
  {
   "cell_type": "code",
   "execution_count": 93,
   "metadata": {
    "collapsed": false
   },
   "outputs": [],
   "source": [
    "#Reduce to 2D dataset for easy graphing\n",
    "from sklearn.manifold import TSNE\n",
    "model = TSNE()\n",
    "tsneData=model.fit_transform(pcaData)"
   ]
  },
  {
   "cell_type": "code",
   "execution_count": 15,
   "metadata": {
    "collapsed": false
   },
   "outputs": [
    {
     "name": "stderr",
     "output_type": "stream",
     "text": [
      "/usr/local/lib/python2.7/dist-packages/matplotlib/font_manager.py:273: UserWarning: Matplotlib is building the font cache using fc-list. This may take a moment.\n",
      "  warnings.warn('Matplotlib is building the font cache using fc-list. This may take a moment.')\n"
     ]
    },
    {
     "name": "stdout",
     "output_type": "stream",
     "text": [
      "Populating the interactive namespace from numpy and matplotlib\n"
     ]
    },
    {
     "name": "stderr",
     "output_type": "stream",
     "text": [
      "WARNING: pylab import has clobbered these variables: ['text', 'f']\n",
      "`%matplotlib` prevents importing * from pylab and numpy\n"
     ]
    }
   ],
   "source": [
    "%pylab inline"
   ]
  },
  {
   "cell_type": "code",
   "execution_count": 16,
   "metadata": {
    "collapsed": true
   },
   "outputs": [],
   "source": [
    "import matplotlib.pyplot as plt"
   ]
  },
  {
   "cell_type": "code",
   "execution_count": 94,
   "metadata": {
    "collapsed": false
   },
   "outputs": [
    {
     "data": {
      "text/plain": [
       "<matplotlib.collections.PathCollection at 0x7f7230079150>"
      ]
     },
     "execution_count": 94,
     "metadata": {},
     "output_type": "execute_result"
    },
    {
     "data": {
      "image/png": "[encoded data removed]",
      "text/plain": [
       "<matplotlib.figure.Figure at 0x7f728a035110>"
      ]
     },
     "metadata": {},
     "output_type": "display_data"
    }
   ],
   "source": [
    "plt.scatter(tsneData[:,0],tsneData[:,1])"
   ]
  },
  {
   "cell_type": "code",
   "execution_count": 68,
   "metadata": {
    "collapsed": false
   },
   "outputs": [
    {
     "data": {
      "text/plain": [
       "(3000, 2)"
      ]
     },
     "execution_count": 68,
     "metadata": {},
     "output_type": "execute_result"
    }
   ],
   "source": [
    "tsneData.shape"
   ]
  },
  {
   "cell_type": "code",
   "execution_count": 71,
   "metadata": {
    "collapsed": false
   },
   "outputs": [
    {
     "data": {
      "text/plain": [
       "2557"
      ]
     },
     "execution_count": 71,
     "metadata": {},
     "output_type": "execute_result"
    }
   ],
   "source": [
    "np.argmin(tsneData[:,0])"
   ]
  },
  {
   "cell_type": "code",
   "execution_count": 72,
   "metadata": {
    "collapsed": false
   },
   "outputs": [
    {
     "name": "stdout",
     "output_type": "stream",
     "text": [
      "['truly', 'beautiful', 'car', 'great', 'experience']\n"
     ]
    }
   ],
   "source": [
    "print(texts[np.argmin(tsneData[:,0])])"
   ]
  },
  {
   "cell_type": "code",
   "execution_count": null,
   "metadata": {
    "collapsed": true
   },
   "outputs": [],
   "source": []
  }
 ],
 "metadata": {
  "kernelspec": {
   "display_name": "Python 2",
   "language": "python",
   "name": "python2"
  },
  "language_info": {
   "codemirror_mode": {
    "name": "ipython",
    "version": 2
   },
   "file_extension": ".py",
   "mimetype": "text/x-python",
   "name": "python",
   "nbconvert_exporter": "python",
   "pygments_lexer": "ipython2",
   "version": "2.7.6"
  }
 },
 "nbformat": 4,
 "nbformat_minor": 0
}
