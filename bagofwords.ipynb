{
 "cells": [
  {
   "cell_type": "code",
   "execution_count": 8,
   "metadata": {
    "collapsed": true
   },
   "outputs": [],
   "source": [
    "import re\n",
    "from nltk.corpus import stopwords\n",
    "from nltk.stem.porter import PorterStemmer\n",
    "from nltk.stem.wordnet import WordNetLemmatizer\n",
    "import pandas as pd\n",
    "from sklearn.feature_extraction.text import TfidfVectorizer, CountVectorizer\n",
    "from sklearn.decomposition import NMF, LatentDirichletAllocation\n",
    "from gensim import corpora, models"
   ]
  },
  {
   "cell_type": "code",
   "execution_count": 2,
   "metadata": {
    "collapsed": true
   },
   "outputs": [],
   "source": [
    "def print_top_words(model, feature_names, n_top_words):\n",
    "    for topic_idx, topic in enumerate(model.components_):\n",
    "        print(\"Topic #%d:\" % topic_idx)\n",
    "        print(\" \".join([feature_names[i]\n",
    "                        for i in topic.argsort()[:-n_top_words - 1:-1]]))\n",
    "    print()"
   ]
  },
  {
   "cell_type": "code",
   "execution_count": 3,
   "metadata": {
    "collapsed": true
   },
   "outputs": [],
   "source": [
    "n_features = 1000\n",
    "n_topics = 100\n",
    "n_top_words = 20"
   ]
  },
  {
   "cell_type": "code",
   "execution_count": 4,
   "metadata": {
    "collapsed": true
   },
   "outputs": [],
   "source": [
    "def review_to_words( raw_review, stops ):\n",
    "    # Function to convert a raw review to a string of words\n",
    "    # The input is a single string (a raw movie review), and \n",
    "    # the output is a single string (a preprocessed movie review)\n",
    "    #\n",
    "    # 1. Remove HTML\n",
    "    #review_text = BeautifulSoup(raw_review).get_text() \n",
    "    #\n",
    "    # 2. Remove non-letters        \n",
    "    letters_only = re.sub(\"[^a-zA-Z]\", \" \", raw_review) \n",
    "    #\n",
    "    # 3. Convert to lower case, split into individual words\n",
    "    words = letters_only.lower().split() \n",
    "    \n",
    "    #stem words\n",
    "    lemmatizer=WordNetLemmatizer()\n",
    "    stemmedWords=[lemmatizer.lemmatize(word) for word in words]\n",
    "    #\n",
    "    # 4. In Python, searching a set is much faster than searching\n",
    "    #   a list, so convert the stop words to a set\n",
    "    #stops = set(stopwords.words(\"english\"))                  \n",
    "    # \n",
    "    # 5. Remove stop words\n",
    "    meaningful_words = [w for w in stemmedWords if not w in stops]   \n",
    "    #\n",
    "    # 6. Join the words back into one string separated by space, \n",
    "    # and return the result.\n",
    "    return( \" \".join( meaningful_words ))"
   ]
  },
  {
   "cell_type": "code",
   "execution_count": 5,
   "metadata": {
    "collapsed": true
   },
   "outputs": [],
   "source": [
    "stops = set(stopwords.words(\"english\"))"
   ]
  },
  {
   "cell_type": "code",
   "execution_count": 6,
   "metadata": {
    "collapsed": false
   },
   "outputs": [],
   "source": [
    "f=open(\"Data/comments.txt\",'r')\n",
    "train = f.readlines()\n",
    "f.close()"
   ]
  },
  {
   "cell_type": "code",
   "execution_count": 9,
   "metadata": {
    "collapsed": false
   },
   "outputs": [
    {
     "name": "stdout",
     "output_type": "stream",
     "text": [
      "forced induction either standard option maybe nismo trim level\n"
     ]
    }
   ],
   "source": [
    "clean_review = review_to_words( train[0],stops )\n",
    "print clean_review"
   ]
  },
  {
   "cell_type": "code",
   "execution_count": 11,
   "metadata": {
    "collapsed": false
   },
   "outputs": [],
   "source": [
    "# Initialize an empty list to hold the clean reviews\n",
    "clean_train_reviews = []\n",
    "\n",
    "# Loop over each review; create an index i that goes from 0 to the length\n",
    "# of the movie review list \n",
    "for i in train:\n",
    "    # Call our function for each one, and add the result to the list of\n",
    "    # clean reviews\n",
    "    if len(i)>3:\n",
    "        #print(i)\n",
    "        clean_train_reviews.append( review_to_words( i,stops ) )"
   ]
  },
  {
   "cell_type": "code",
   "execution_count": 12,
   "metadata": {
    "collapsed": false
   },
   "outputs": [
    {
     "data": {
      "text/plain": [
       "u'exterior look overall build quality vehicle handling breaking engine output'"
      ]
     },
     "execution_count": 12,
     "metadata": {},
     "output_type": "execute_result"
    }
   ],
   "source": [
    "clean_train_reviews[1]"
   ]
  },
  {
   "cell_type": "code",
   "execution_count": 13,
   "metadata": {
    "collapsed": false
   },
   "outputs": [],
   "source": [
    "# Initialize the \"CountVectorizer\" object, which is scikit-learn's\n",
    "# bag of words tool.  \n",
    "vectorizer = CountVectorizer(analyzer = \"word\", max_features = n_features) \n",
    "\n",
    "# fit_transform() does two functions: First, it fits the model\n",
    "# and learns the vocabulary; second, it transforms our training data\n",
    "# into feature vectors. The input to fit_transform should be a list of \n",
    "# strings.\n",
    "train_data_features = vectorizer.fit_transform(clean_train_reviews)\n",
    "\n",
    "# Numpy arrays are easy to work with, so convert the result to an \n",
    "# array\n",
    "#train_data_features = train_data_features.toarray()"
   ]
  },
  {
   "cell_type": "code",
   "execution_count": 15,
   "metadata": {
    "collapsed": false
   },
   "outputs": [
    {
     "name": "stdout",
     "output_type": "stream",
     "text": [
      "\n",
      "Topics in LDA model:\n",
      "Topic #0:\n",
      "seat front passenger doe different low heated head rest adjustment belt move setting adjust arm height forward middle sit reach\n",
      "Topic #1:\n",
      "zero flat front friendly friend free fourth four found forward ford foot fold fog floor fixed favorite fix fit first\n",
      "Topic #2:\n",
      "zero flat front friendly friend free fourth four found forward ford foot fold fog floor fixed favorite fix fit first\n",
      "Topic #3:\n",
      "door people awesome etc car someone quite lock parking hold away garage ask park scratch sharp unlock noticed opener often\n",
      "Topic #4:\n",
      "altima reliable far sentra car infiniti driven rd toyota impressed traded affordable question economical son armada currently titan owned nissan\n",
      "Topic #5:\n",
      "rogue value ever drove absolutely test gotten smoothness totally rough bmw changing mercedes car ride love look competitor lane drive\n",
      "Topic #6:\n",
      "zero flat front friendly friend free fourth four found forward ford foot fold fog floor fixed favorite fix fit first\n",
      "Topic #7:\n",
      "reliability murano almost hope might city altimas reasonable important mid missing known car nissan something company new get wrong also\n",
      "Topic #8:\n",
      "issue dealership still phone bluetooth give month sure paint acceleration car minor poor concern couple job connectivity local cell app\n",
      "Topic #9:\n",
      "space rear way many trunk speaker awd ac base bumper hatch starting bottom iphone remove car automatically wish wiper need\n",
      "Topic #10:\n",
      "zero flat front friendly friend free fourth four found forward ford foot fold fog floor fixed favorite fix fit first\n",
      "Topic #11:\n",
      "comfort appearance capability classy convenience noisy since detail free fourth four found fold friend ford foot friendly forward floor fog\n",
      "Topic #12:\n",
      "need color know long small enough audio recommendation winter added consider motor gave hot give vehicle device flat definitely overall\n",
      "Topic #13:\n",
      "improve want speed turn automatic cvt stop lack mph slow connection feel device special transmission making move head would type\n",
      "Topic #14:\n",
      "problem see money fix reason car luxury due week rattle prior annoying worth main tried le nissan day ha maximum\n",
      "Topic #15:\n",
      "bought purchased package went thought lower black ability upgrade given position looked offered must car clear seen horrible stand version\n",
      "Topic #16:\n",
      "love nice nothing car survey efficient red driven suv care notice entry gave night fold flat floor fog limited fix\n",
      "Topic #17:\n",
      "another quiet bit used going person day yet believe part car extra run found paid cylinder hear opinion getting doe\n",
      "Topic #18:\n",
      "dealer exceptional care kind bump car taken reputation break heard tailgate worked received nissan buy get problem fixed survey happen\n",
      "Topic #19:\n",
      "year last past big free frontier three leased date rid leasing towing get maintenance probably back one quality read maximum\n",
      "Topic #20:\n",
      "light even come though line running car switch night led information starter dont fog talk shape wait making know use\n",
      "Topic #21:\n",
      "camera work go hard several purchasing plus backup connect superior infinity updated modern car worked apps nissan lexus use vehicle\n",
      "Topic #22:\n",
      "model done cabin sv basic professional including hoping responsive equipment figure particular explained performs total consumer amenity car upgrade nissan\n",
      "Topic #23:\n",
      "driver looking design inside outside sleek forward dark response electric reach like good think gas roominess entertainment must rim powerful\n",
      "Topic #24:\n",
      "well maximum loved seating dash nd future expect car designed continue board st strong answered love previous one maintenance stand\n",
      "Topic #25:\n",
      "zero flat front friendly friend free fourth four found forward ford foot fold fog floor fixed favorite fix fit first\n",
      "Topic #26:\n",
      "interior noise road navigation seems larger display needed panel loud wind although feeling reduce piece digital example center quieter floor\n",
      "Topic #27:\n",
      "zero flat front friendly friend free fourth four found forward ford foot fold fog floor fixed favorite fix fit first\n",
      "Topic #28:\n",
      "pathfinder expectation meet charge kept shop xterra floor fog fold foot zero ford flat found four fourth free forward fixed\n",
      "Topic #29:\n",
      "control radio start remote something brake screen sometimes lane noisy miss hit support coming foot heating sensor xm favorite shifting\n",
      "Topic #30:\n",
      "one suv every except lease longer fantastic behind working replace sticker ten digital return care old business prior maximum payment\n",
      "Topic #31:\n",
      "zero flat front friendly friend free fourth four found forward ford foot fold fog floor fixed favorite fix fit first\n",
      "Topic #32:\n",
      "liked fit gps pay finish decent town update white current compass car love problem opener ford fog found foot fold\n",
      "Topic #33:\n",
      "customer satisfied say fact smaller hour stay changed satisfaction car business complete beat something sell home helpful ok gotten finance\n",
      "Topic #34:\n",
      "vehicle look feel size compared cheap simply nicer qx day infiniti show said expect amount notice cd match past market\n",
      "Topic #35:\n",
      "excellent roomy choice item car sport real expensive tech bell sedan whistle normal mode care course personal guess text safety\n",
      "Topic #36:\n",
      "use take two cargo help key difficult place holder cannot making cup using actually understand access older decision pull volume\n",
      "Topic #37:\n",
      "made able th tell instead number live concerned premium choose operate dept car making day home trade one new bought\n",
      "Topic #38:\n",
      "zero flat front friendly friend free fourth four found forward ford foot fold fog floor fixed favorite fix fit first\n",
      "Topic #39:\n",
      "compartment location installed box glove similar pressure traffic kid capacity opening quickly limited instrument provides pricing competition alot carpet accessory\n",
      "Topic #40:\n",
      "tank range call bigger major floor mat horsepower cab addressed called gas allow said problem like opener often perhaps accident\n",
      "Topic #41:\n",
      "fuel economy change offer top oil average efficiency headlight per gallon advertised read text message led get safety could compared\n",
      "Topic #42:\n",
      "zero flat front friendly friend free fourth four found forward ford foot fold fog floor fixed favorite fix fit first\n",
      "Topic #43:\n",
      "feature always safety wish anything getting keep deal said however chrome stuff vehicle since get different someone nissan love helpful\n",
      "Topic #44:\n",
      "zero flat front friendly friend free fourth four found forward ford foot fold fog floor fixed favorite fix fit first\n",
      "Topic #45:\n",
      "room spot blind tire higher warning console leg center large music slightly mind allow perhaps inch temp forward camera indicator\n",
      "Topic #46:\n",
      "side mpg mirror high view left windshield wiper trouble visibility vibration adjustable turned short near rain electronic usually fold appears\n",
      "Topic #47:\n",
      "zero flat front friendly friend free fourth four found forward ford foot fold fog floor fixed favorite fix fit first\n",
      "Topic #48:\n",
      "better friend find could truly cost hand turning fan huge radius car competitor replaced instead currently least would job likely\n",
      "Topic #49:\n",
      "thing wheel steering add heat mentioned least sl included weather heated rate heater cd step realize glad play automatically small\n",
      "Topic #50:\n",
      "nissan vehicle owned family previously repair car daughter taking positive term fair pleasant member toyota going year match still ha\n",
      "Topic #51:\n",
      "like car feel beautiful solid spacious riding compare beyond look vehicle trim honda course performance couple paint suspension cvt ride\n",
      "Topic #52:\n",
      "zero flat front friendly friend free fourth four found forward ford foot fold fog floor fixed favorite fix fit first\n",
      "Topic #53:\n",
      "performance product sale outstanding staff anyone maintenance dependability four team fourth sell dealing rep nissan job possible appearance sold name\n",
      "Topic #54:\n",
      "zero flat front friendly friend free fourth four found forward ford foot fold fog floor fixed favorite fix fit first\n",
      "Topic #55:\n",
      "zero flat front friendly friend free fourth four found forward ford foot fold fog floor fixed favorite fix fit first\n",
      "Topic #56:\n",
      "zero flat front friendly friend free fourth four found forward ford foot fold fog floor fixed favorite fix fit first\n",
      "Topic #57:\n",
      "old roof sun sporty clean cool moon cold fill additional visor nicely man hot annoying wear unlock lock loud operate\n",
      "Topic #58:\n",
      "much never brand row friendly let ford usb port user personal trust multiple thus thanks functionality roomier nissan altima many\n",
      "Topic #59:\n",
      "gas mileage driving milage entire regular car since receive good efficient sporty pleased knew excellent designed pedal recommended first free\n",
      "Topic #60:\n",
      "wa told salesman recommended took stylish payment felt mine received finance manager based terrible replaced knew surprised however accident called\n",
      "Topic #61:\n",
      "function braking signal zero front friend free fourth four found forward ford foot fold fog floor flat fixed fix fit\n",
      "Topic #62:\n",
      "zero flat front friendly friend free fourth four found forward ford foot fold fog floor fixed favorite fix fit first\n",
      "Topic #63:\n",
      "zero flat front friendly friend free fourth four found forward ford foot fold fog floor fixed favorite fix fit first\n",
      "Topic #64:\n",
      "voice trying satellite recognition zero foot floor fog fold ford fixed forward found four fourth free friend flat fit fix\n",
      "Topic #65:\n",
      "zero flat front friendly friend free fourth four found forward ford foot fold fog floor fixed favorite fix fit first\n",
      "Topic #66:\n",
      "handling attractive trip built include name road zero stick meet engine like app drive acceleration dependability noticed fourth four found\n",
      "Topic #67:\n",
      "everything think enjoy else fine priced guess appreciate piece toyota would high bmw alot hour may spacious sitting addition compass\n",
      "Topic #68:\n",
      "highway complaint headrest lighting enjoyed trade treated lift soon gate bag pleasure ground plan score camry going red please switch\n",
      "Topic #69:\n",
      "zero flat front friendly friend free fourth four found forward ford foot fold fog floor fixed favorite fix fit first\n",
      "Topic #70:\n",
      "get comfortable mile put roominess amazing car pick end rating easier sold yes cut compliment quiet gave home look hour\n",
      "Topic #71:\n",
      "really lot previous right improvement car thank brought afford rim mean like vehicle move would compared love nice seat dark\n",
      "Topic #72:\n",
      "good price car point rouge along datsun competitor job vehicle look drive value everything reliable amount since fun handling really\n",
      "Topic #73:\n",
      "system sound style body others expected seem stereo bose full quietness nav pickup entertainment car interior navigation speaker doe love\n",
      "Topic #74:\n",
      "zero flat front friendly friend free fourth four found forward ford foot fold fog floor fixed favorite fix fit first\n",
      "Topic #75:\n",
      "zero flat front friendly friend free fourth four found forward ford foot fold fog floor fixed favorite fix fit first\n",
      "Topic #76:\n",
      "improved open disappointed snow owner sunroof husband stated upon earlier hate tall chose dual recall car gate noisy information instead\n",
      "Topic #77:\n",
      "ha storage buy buying ok amount wrong worked process eye increase owning chevy addition water today waiting loyal honestly computer\n",
      "Topic #78:\n",
      "zero flat front friendly friend free fourth four found forward ford foot fold fog floor fixed favorite fix fit first\n",
      "Topic #79:\n",
      "great car service company department detail received receive aspect job sale helpful care infiniti dealing multiple honestly highly dealer dept\n",
      "Topic #80:\n",
      "zero flat front friendly friend free fourth four found forward ford foot fold fog floor fixed favorite fix fit first\n",
      "Topic #81:\n",
      "wanted bad answer try fully recommending release exactly hill hopefully consumption couple asked instead prior get forward found ford foot\n",
      "Topic #82:\n",
      "experience little pleased second extremely wonderful close none cause vehicle nissan helpful prior making overall local maximum value styling replaced\n",
      "Topic #83:\n",
      "truck area around cover whole general provide plastic home delivery automobile bed correct upgraded chip buyer example car garage well\n",
      "Topic #84:\n",
      "zero flat front friendly friend free fourth four found forward ford foot fold fog floor fixed favorite fix fit first\n",
      "Topic #85:\n",
      "zero flat front friendly friend free fourth four found forward ford foot fold fog floor fixed favorite fix fit first\n",
      "Topic #86:\n",
      "zero flat front friendly friend free fourth four found forward ford foot fold fog floor fixed favorite fix fit first\n",
      "Topic #87:\n",
      "also purchase everyone may helpful next fixed came warranty check dashboard car highly versa factory properly early notice checked frustrating\n",
      "Topic #88:\n",
      "zero flat front friendly friend free fourth four found forward ford foot fold fog floor fixed favorite fix fit first\n",
      "Topic #89:\n",
      "new first car since got third auto show enjoying ago disappointing honest ownership leaf year least turned sell forward get\n",
      "Topic #90:\n",
      "would recommend styling car definitely prefer asked within something distance possible likely travel certain automatically least highly case digital different\n",
      "Topic #91:\n",
      "zero flat front friendly friend free fourth four found forward ford foot fold fog floor fixed favorite fix fit first\n",
      "Topic #92:\n",
      "time power pretty available blue easily tooth hood fast mostly engine care road smoothly know appreciate like move smooth experience\n",
      "Topic #93:\n",
      "quality overall vehicle exterior le dependable car manufacturer build prior look engine nice smoothly fabric driven experienced information care handling\n",
      "Topic #94:\n",
      "engine transmission without especially manual keyless entry gear shift smoother operation suspension attention quick backing indicator im ignition conditioning course\n",
      "Topic #95:\n",
      "ride happy smooth technology completely salesperson vehicle new overall look maximum absolutely forward economy sleek job fuel behind fog fix\n",
      "Topic #96:\n",
      "back option seat standard button leather maybe level push mode touch memory type rather eco either trim screen child bring\n",
      "Topic #97:\n",
      "drive handle way already ease fun car condition plenty smoothly considering powerful luxurious factor leave well quiet driving love notice\n",
      "Topic #98:\n",
      "could best car perfect honda quieter class probably life guy vent market difference apps otherwise lexus experienced happen accident use\n",
      "Topic #99:\n",
      "make easy window air safe wife feel please material comment set car tight accelerating moving somewhat seem coming get setting\n",
      "()\n"
     ]
    }
   ],
   "source": [
    "#fit LDA model to data\n",
    "lda = LatentDirichletAllocation(n_topics=n_topics, learning_method='online', learning_offset=50., random_state=0)\n",
    "\n",
    "lda.fit(train_data_features)\n",
    "\n",
    "print(\"\\nTopics in LDA model:\")\n",
    "tf_feature_names = vectorizer.get_feature_names()\n",
    "print_top_words(lda, tf_feature_names, n_top_words)"
   ]
  },
  {
   "cell_type": "code",
   "execution_count": null,
   "metadata": {
    "collapsed": false
   },
   "outputs": [],
   "source": [
    "print(transformed_data[0])"
   ]
  },
  {
   "cell_type": "code",
   "execution_count": null,
   "metadata": {
    "collapsed": false,
    "scrolled": true
   },
   "outputs": [],
   "source": [
    "%pylab inline"
   ]
  },
  {
   "cell_type": "code",
   "execution_count": null,
   "metadata": {
    "collapsed": false
   },
   "outputs": [],
   "source": [
    "import matplotlib.pyplot as plt\n",
    "plt.scatter(transformed_data[:,0],transformed_data[:,1])"
   ]
  },
  {
   "cell_type": "code",
   "execution_count": null,
   "metadata": {
    "collapsed": false
   },
   "outputs": [],
   "source": [
    "print(transformed_data[:10,0])"
   ]
  },
  {
   "cell_type": "code",
   "execution_count": null,
   "metadata": {
    "collapsed": false
   },
   "outputs": [],
   "source": [
    "type(transformed_data)"
   ]
  },
  {
   "cell_type": "code",
   "execution_count": null,
   "metadata": {
    "collapsed": true
   },
   "outputs": [],
   "source": []
  }
 ],
 "metadata": {
  "kernelspec": {
   "display_name": "Python 2",
   "language": "python",
   "name": "python2"
  },
  "language_info": {
   "codemirror_mode": {
    "name": "ipython",
    "version": 2
   },
   "file_extension": ".py",
   "mimetype": "text/x-python",
   "name": "python",
   "nbconvert_exporter": "python",
   "pygments_lexer": "ipython2",
   "version": "2.7.6"
  }
 },
 "nbformat": 4,
 "nbformat_minor": 0
}
